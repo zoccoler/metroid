{
 "cells": [
  {
   "cell_type": "markdown",
   "metadata": {},
   "source": [
    "# BSSD - Blind Source Separation Denoising"
   ]
  },
  {
   "cell_type": "code",
   "execution_count": 52,
   "metadata": {},
   "outputs": [],
   "source": [
    "testing = (__name__ == \"__main__\")\n",
    "if testing:\n",
    "#     %matplotlib inline\n",
    "    import matplotlib.pyplot as plt\n",
    "    import matplotlib.image as mpimg\n",
    "    import numpy as np\n",
    "    import sys,os\n",
    "    bssdpath = os.path.abspath('')\n",
    "    if bssdpath not in sys.path:\n",
    "        sys.path.append(bssdpath)\n",
    "    items = os.listdir(bssdpath)\n",
    "    if 'MES.py' not in items:\n",
    "        ! jupyter nbconvert --to 'python' MES.ipynb\n",
    "    if 'Remove_Photobleaching.py' not in items:\n",
    "        ! jupyter nbconvert --to 'python' Remove_Photobleaching.ipynb\n",
    "    import MES as mes\n",
    "    import Remove_Photobleaching as rpb"
   ]
  },
  {
   "cell_type": "markdown",
   "metadata": {},
   "source": [
    "## Mandatory Parameters:"
   ]
  },
  {
   "cell_type": "code",
   "execution_count": 47,
   "metadata": {},
   "outputs": [],
   "source": [
    "if testing:\n",
    "    from skimage import io\n",
    "    fpath = 'Data\\\\Cell1\\\\videos_AP'\n",
    "    fr = 71.29\n",
    "    \n",
    "    fname = 'avid_1.tif'\n",
    "    fullpath = fpath + '\\\\' + fname\n",
    "    video = io.imread(fullpath)\n",
    "#     fname = 'vid_2.tif'\n",
    "#     fullpath = fpath + '\\\\' + fname\n",
    "#     video2 = io.imread(fullpath)\n",
    "    \n",
    "    mname = 'mask2.tif'\n",
    "    fullpath = fpath + '\\\\' + mname\n",
    "    mask = io.imread(fullpath)\n",
    "    "
   ]
  },
  {
   "cell_type": "markdown",
   "metadata": {},
   "source": [
    "## Optional Parameters:"
   ]
  },
  {
   "cell_type": "code",
   "execution_count": 48,
   "metadata": {},
   "outputs": [],
   "source": [
    "if testing:\n",
    "    t_sig_onset=0.5\n",
    "    t_sig_end=1\n",
    "    transitory=True\n",
    "    autoselect='manual'"
   ]
  },
  {
   "cell_type": "code",
   "execution_count": 49,
   "metadata": {},
   "outputs": [],
   "source": [
    "if testing:\n",
    "    ROIs_msk, ROIs_means, time  = mes.segment(video, fr, mask)\n",
    "    ROIs_means_corrected, corrections, inactive_msk,t_sig_onset  = rpb.photob_remove(video,time, mask,ROIs_means,transitory,t_sig_onset,t_sig_end)"
   ]
  },
  {
   "cell_type": "code",
   "execution_count": 7,
   "metadata": {},
   "outputs": [],
   "source": [
    "def get_noise_power(ROIs_means_corrected,time,inactive_msk=None):\n",
    "    ''''''\n",
    "    import numpy as np\n",
    "    nregions = ROIs_means_corrected.shape[1]\n",
    "    if np.any(inactive_msk)==None:\n",
    "        inactive_msk = np.ones_like(time,dtype=bool)\n",
    "#     for m,t,cnt,idx in zip(ROIs_means_corrected,time,range(len(time)),inactive_msk):\n",
    "    noise = np.zeros((nregions,))\n",
    "    for j in range(nregions):\n",
    "        #Get NOISE\n",
    "#         #for first video, noise is taken from full data\n",
    "#         if cnt==0:\n",
    "#             noise[j] = np.sum(np.square(abs(m[:,j])),axis=0)/(m.shape[0])\n",
    "#         #for ther video, noise is taken from inactive intervals\n",
    "#         else:\n",
    "        noise[j] = np.sum(np.square(abs(ROIs_means_corrected[inactive_msk,j])),axis=0)/(ROIs_means_corrected[inactive_msk,:].shape[0])\n",
    "\n",
    "\n",
    "    return(noise)"
   ]
  },
  {
   "cell_type": "markdown",
   "metadata": {},
   "source": [
    "# Get tsig from remove photobleaching"
   ]
  },
  {
   "cell_type": "code",
   "execution_count": 8,
   "metadata": {},
   "outputs": [],
   "source": [
    "def guess_t_sig_active_time(sources, t_sig_onset_idx):\n",
    "    '''Returns indices of time vector later then t_sig_onset and when they are bigger than channel background noise'''\n",
    "    import numpy as np\n",
    "    noise_threshold = np.mean(sources[:t_sig_onset_idx,:],axis=0) + 2*np.std(sources[:t_sig_onset_idx,:],axis=0)\n",
    "    t_sig_active = np.empty_like(sources,dtype=bool)\n",
    "    for i in range(len(noise_threshold)):\n",
    "        t_sig_active[:,i] = np.where(sources[:,i]>noise_threshold[i],True,False)\n",
    "        t_sig_active[:t_sig_onset_idx,i] = False\n",
    "    return(noise_threshold, t_sig_active)"
   ]
  },
  {
   "cell_type": "code",
   "execution_count": 9,
   "metadata": {},
   "outputs": [],
   "source": [
    "def get_signal_power(ROIs_means_corrected,time,inactive_msk=None):\n",
    "    import numpy as np\n",
    "    nregions = ROIs_means_corrected.shape[1]\n",
    "    \n",
    "    if np.any(inactive_msk)==None:\n",
    "        inactive_msk = np.ones_like(time,dtype=bool)\n",
    "    active_mask = np.invert(inactive_msk)\n",
    "#     noise = np.zeros((nregions,))\n",
    "#     for j in range(nregions):\n",
    "        #Get NOISE\n",
    "    signal_power = np.sum(np.square(abs(ROIs_means_corrected[active_mask])),axis=0)/(len(active_mask))\n",
    "    return(signal_power)"
   ]
  },
  {
   "cell_type": "code",
   "execution_count": 41,
   "metadata": {},
   "outputs": [],
   "source": [
    "def manual_select():\n",
    "    nb = input('Enter one or more sources number (separate numbers by \",\" if number of sources > 1): ')\n",
    "#     print(nb.find(','))\n",
    "    selected_source_idx = []\n",
    "    if nb.find(',')==-1: #Single source selected\n",
    "        try:\n",
    "            number = int(nb)\n",
    "#             print('number',number)\n",
    "            selected_source_idx.append(number)\n",
    "        except ValueError:\n",
    "            print(\"Invalid number\")\n",
    "    else:\n",
    "\n",
    "        nb = nb.replace(\" \",\"\")\n",
    "        commas_idx = []\n",
    "        import re\n",
    "        for m in re.finditer(',', nb):\n",
    "            commas_idx.append(m.start())\n",
    "#         print('commas',commas_idx)\n",
    "        try:\n",
    "            number = int(nb[:commas_idx[0]])\n",
    "#             print('number',number)\n",
    "            selected_source_idx.append(number)\n",
    "#             print('selected_source',selected_source_idx)\n",
    "            for i in range(len(commas_idx)):\n",
    "#                 print('i',i)\n",
    "                if i==len(commas_idx)-1:\n",
    "                    number = int(nb[commas_idx[i]+1:])\n",
    "                else:\n",
    "#                     print('bla',nb[commas_idx[i]+1:commas_idx[i+1]])\n",
    "                    number = int(nb[commas_idx[i]+1:commas_idx[i+1]])\n",
    "#                 print('numberrr',number)\n",
    "                selected_source_idx.append(number)\n",
    "#                 print('selected_source',selected_source_idx)\n",
    "        except ValueError:\n",
    "            print(\"Invalid number list\")\n",
    "    return(np.array(selected_source_idx))\n",
    "            "
   ]
  },
  {
   "cell_type": "code",
   "execution_count": 35,
   "metadata": {},
   "outputs": [],
   "source": [
    "def denoise(ROIs_means_corrected,time,inactive_msk,t_sig_onset,method='wPCA',n_comp=2,wavelet='Haar',autoselect='auto'):\n",
    "    import numpy as np\n",
    "    import matplotlib.pyplot as plt\n",
    "    noise_power = get_noise_power(ROIs_means_corrected,time,inactive_msk=inactive_msk)\n",
    "    \n",
    "    if (method=='ICA') | (method=='wICA'):\n",
    "        from sklearn.decomposition import FastICA\n",
    "        bss = FastICA(n_components=n_comp,max_iter=2000,tol=0.01)\n",
    "    if (method=='PCA') | (method=='wPCA'):\n",
    "        from sklearn.decomposition import PCA\n",
    "        bss = PCA(n_components=n_comp)\n",
    "    t_sig_onset_idx = np.argmin(abs(time-t_sig_onset))\n",
    "    \n",
    "\n",
    "    sources = bss.fit_transform(ROIs_means_corrected)  # Estimate sources\n",
    "    sources_filt = np.zeros_like(sources)\n",
    "    if autoselect=='auto':\n",
    "        sources_idx_sorted_inverse = auto_select_signal(sources, time, t_sig_onset_idx)\n",
    "        selected_source_idx = sources_idx_sorted_inverse[0]\n",
    "#         sources_filt[:,sources_idx_sorted_inverse[0]] = sources[:,sources_idx_sorted_inverse[0]]\n",
    "    else:\n",
    "#         print('A')\n",
    "        plt.figure(figsize=[15,n_comp*2])\n",
    "#         print('AA')\n",
    "        plt.title('Type source numbers that countain signal')\n",
    "        for i in range(n_comp):\n",
    "#             print('AAA')\n",
    "            plt.subplot(n_comp,1,i+1)\n",
    "            plt.plot(time,sources[:,i])\n",
    "            \n",
    "            \n",
    "            plt.axvline(t_sig_onset,color='k',linestyle='--',alpha=0.3)\n",
    "            ymax = np.mean(sources[inactive_msk,i]) + 2*np.std(sources[inactive_msk,i])\n",
    "#             print('ymax',ymax)\n",
    "            ymin = np.mean(sources[inactive_msk,i]) - 2*np.std(sources[inactive_msk,i])\n",
    "            \n",
    "            plt.axhspan(ymin=ymin,ymax=ymax,alpha=0.1)\n",
    "            s = 'Source #'+str(i)\n",
    "            plt.ylabel(s,fontsize='large')\n",
    "            ymin = 1.8*np.amin(sources[:,i])\n",
    "#             print('ymin',np.amin(sources[:,i]))\n",
    "#             print('newymin',ymin)\n",
    "            ymax = 1.8*np.amax(sources[:,i])\n",
    "            plt.ylim(ymin, ymax)\n",
    "        plt.show()\n",
    "        selected_source_idx = manual_select()\n",
    "        plt.close()\n",
    "    sources_filt[:,selected_source_idx] = sources[:,selected_source_idx]\n",
    "    \n",
    "    \n",
    "    \n",
    "    if (method=='wPCA') | (method=='wICA'):\n",
    "        for i in range(np.size(selected_source_idx)):\n",
    "            sources_filt[:,i] = wavelet_denoise4(sources_filt[:,i],time,wave=wavelet)\n",
    "    ROIs_means_corrected_filtered = bss.inverse_transform(sources_filt)\n",
    "    ROIs_means_corrected_filtered = ROIs_means_corrected_filtered - np.median(ROIs_means_corrected_filtered[inactive_msk,:],axis=0)\n",
    "    \n",
    "    signal_power = get_signal_power(ROIs_means_corrected,time,inactive_msk=None)\n",
    "    \n",
    "    \n",
    "    return(ROIs_means_corrected_filtered,sources,selected_source_idx)\n",
    "\n",
    "    \n",
    "    "
   ]
  },
  {
   "cell_type": "code",
   "execution_count": 36,
   "metadata": {},
   "outputs": [],
   "source": [
    "def wavelet_denoise4(S, time, wave='Haar'):\n",
    "    import numpy as np\n",
    "    import pywt\n",
    "    from statsmodels.robust.scale import mad\n",
    "    w = pywt.Wavelet(wave)\n",
    "    shape = S.shape\n",
    "    n = shape[0]\n",
    "    \n",
    "    #Denoise just one component\n",
    "    if len(shape)==1:\n",
    "        if (n%2!=0):\n",
    "            Y = np.zeros((n+1,))\n",
    "        else:\n",
    "            Y = np.zeros_like(S)\n",
    "        \n",
    "\n",
    "        max_level = pywt.dwt_max_level(n, w)\n",
    "        coeff = pywt.wavedec(S, w, mode='periodization',level=max_level)\n",
    "        #Calculates indexes for 2,5sec and 3,5sec OR 0,5sec and 1,5sec, depending on video length\n",
    "        if n>200:\n",
    "            i2_5 = np.argwhere(np.floor(time-1.5).clip(min=0))[0][0]\n",
    "            i3_5 = np.argwhere(np.floor(time-2.5).clip(min=0))[0][0]\n",
    "        else:\n",
    "            i2_5 = np.argwhere(np.floor(time+0.5).clip(min=0))[0][0]\n",
    "            i3_5 = np.argwhere(np.floor(time-0.5).clip(min=0))[0][0]\n",
    "        \n",
    "        #Builds and artificial signal to get max correlation before and after stimulus\n",
    "        s3 = np.zeros(S.shape) \n",
    "       \n",
    "        s3[i2_5] = -1\n",
    "        s3[i2_5+1:] = -2\n",
    "        \n",
    "\n",
    "        sigma3 = mad(coeff[-1])\n",
    "#         print('sigma3=',sigma3)\n",
    "        K = np.sqrt(2*np.log(time.shape[0]))*sigma3\n",
    "#         print(K)\n",
    "        \n",
    "        coeff_T = []\n",
    "        for j in range(len(coeff)):\n",
    "            c = pywt.threshold(coeff[j], K, 'hard')\n",
    "            coeff_T.append(c)\n",
    "        Y = pywt.waverec(coeff_T, w ,mode='periodization')\n",
    "        if (n%2!=0):\n",
    "            Y = Y[:len(Y)-1]\n",
    "\n",
    "\n",
    "    \n",
    "    return(Y)"
   ]
  },
  {
   "cell_type": "code",
   "execution_count": 37,
   "metadata": {},
   "outputs": [],
   "source": [
    "def auto_select_signal(sources, time, t_sig_onset_idx):\n",
    "    import numpy as np\n",
    "    noise_threshold = np.mean(sources[:t_sig_onset_idx,:],axis=0) + 2*np.std(sources[:t_sig_onset_idx,:],axis=0)\n",
    "#     print(noise_threshold)\n",
    "    t_sig_active = np.where(abs(sources)>noise_threshold,True,False)\n",
    "    t_sig_active[:t_sig_onset_idx] = False\n",
    "#     print(t_sig_active)\n",
    "#     active_idxs = np.empty((sources.shape[1],2),dtype=int)\n",
    "    sources_abovenoise_power = np.empty((sources.shape[1],))\n",
    "    for i in range(sources.shape[1]):\n",
    "        active_idxs = get_longest_ones_seq_idx(t_sig_active[:,i])\n",
    "        if np.any(active_idxs)==None:\n",
    "            sources_abovenoise_power[i] = 0\n",
    "        else:\n",
    "            sources_abovenoise_power[i] = np.sum(np.square(sources[active_idxs,i]))\n",
    "#     print(sources_power)\n",
    "#     plt.figure(figsize=[15,10])\n",
    "#     plt.plot(time,sources)\n",
    "#     plt.plot(time,np.repeat(noise_threshold[0],len(time)),'b')\n",
    "#     plt.axvline(x=time[active_idxs[0]],color='k')\n",
    "#     plt.axvline(x=time[active_idxs[-1]],color='g')\n",
    "#     plt.plot(time,np.repeat(noise_threshold[1],len(time)),'r')\n",
    "#     print(sources_power)\n",
    "#     bla=bla3\n",
    "    sources_idx_sorted = np.argsort(sources_abovenoise_power)\n",
    "    sources_idx_sorted_inverse = sources_idx_sorted[::-1] #sorts from max to min\n",
    "    return(sources_idx_sorted_inverse)\n",
    "    \n"
   ]
  },
  {
   "cell_type": "code",
   "execution_count": 38,
   "metadata": {},
   "outputs": [],
   "source": [
    "def get_longest_ones_seq_idx(t_sig_active):\n",
    "    import numpy as np\n",
    "    ones_pos = np.nonzero(t_sig_active)[0]\n",
    "#     print(ones_pos)\n",
    "    if ones_pos.size==0:\n",
    "#         print('bla')\n",
    "        return(None)\n",
    "    else:\n",
    "        d_ones_pos = np.diff(ones_pos)\n",
    "#         print(d_ones_pos)\n",
    "        d_ones_pos = np.insert(d_ones_pos,len(d_ones_pos),0)\n",
    "#         print(d_ones_pos)\n",
    "        seq=0\n",
    "        maxseq=0\n",
    "        for i in range(len(ones_pos)):\n",
    "            if d_ones_pos[i]==1:\n",
    "                seq+=1\n",
    "            else:\n",
    "    #             print('la')\n",
    "                if ((seq+1)>maxseq):\n",
    "\n",
    "                    maxseq = seq+1\n",
    "                    pos = ones_pos[i] - seq\n",
    "                    pos_end = ones_pos[i]+1\n",
    "                seq = 0\n",
    "#         print(pos,pos_end,seq,maxseq)\n",
    "        longest_idxs = np.arange(pos,pos_end)\n",
    "    \n",
    "    return(longest_idxs)"
   ]
  },
  {
   "cell_type": "code",
   "execution_count": 50,
   "metadata": {},
   "outputs": [
    {
     "data": {
      "image/png": "[encoded data removed]",
      "text/plain": [
       "<matplotlib.figure.Figure at 0x9f1e080>"
      ]
     },
     "metadata": {},
     "output_type": "display_data"
    },
    {
     "name": "stdout",
     "output_type": "stream",
     "text": [
      "Enter one or more sources number (separate numbers by \",\" if number of sources > 1): 0\n"
     ]
    }
   ],
   "source": [
    "if testing:\n",
    "    ROIs_filtered,sources,selected_source_idx = denoise(ROIs_means_corrected,time,inactive_msk,t_sig_onset,autoselect=autoselect)"
   ]
  },
  {
   "cell_type": "code",
   "execution_count": 51,
   "metadata": {},
   "outputs": [
    {
     "data": {
      "image/png": "[encoded data removed]",
      "text/plain": [
       "<matplotlib.figure.Figure at 0xd59a9e8>"
      ]
     },
     "metadata": {},
     "output_type": "display_data"
    }
   ],
   "source": [
    "if testing:\n",
    "    plt.plot(time, ROIs_filtered)"
   ]
  },
  {
   "cell_type": "code",
   "execution_count": null,
   "metadata": {},
   "outputs": [],
   "source": []
  }
 ],
 "metadata": {
  "kernelspec": {
   "display_name": "Python 3",
   "language": "python",
   "name": "python3"
  },
  "language_info": {
   "codemirror_mode": {
    "name": "ipython",
    "version": 3
   },
   "file_extension": ".py",
   "mimetype": "text/x-python",
   "name": "python",
   "nbconvert_exporter": "python",
   "pygments_lexer": "ipython3",
   "version": "3.6.4"
  }
 },
 "nbformat": 4,
 "nbformat_minor": 2
}
